{
 "cells": [
  {
   "cell_type": "markdown",
   "metadata": {
    "id": "xpAuMVCwfWs8"
   },
   "source": [
    "# Memory & Intelligence\n",
    "An important part of intelligence stems from memory. Memory -> contextual historic data that informs our predictive ability and actions in our day-day lives.  \n",
    "**NNs mimic our brains ability to remember through the preservation of the weights along the artificial synapses that link the neurons within the input, hidden and output layers of the NN.**\n",
    "**The weights are the long-term memory of the ANN.**\n",
    "# Recurrent Neural Networks\n",
    "### RNNs (their weights) mimic the short-term memory of the brain.\n",
    "An RNN is a **squashed & twisted** ANN that has a feedabck loop which generates the short-term memory.\n",
    "![](images/rnn1.jpg)\n",
    "![](images/rnn2.jpg)\n",
    "![](images/rnn3.jpg)\n",
    "![](images/rnn4.jpg)\n",
    "![](images/rnn5.jpg)\n",
    "### The hidden layers know the prior state of the adjacent hidden layer which creates this \"short-term memory\" feature that RNNs have.\n",
    "![](images/rnn6.jpg)\n",
    "#### Now if we extrapolate over multiple layers, we get...............\n",
    "![](images/rnn7.jpg)\n",
    "### The power of RNNs is unleashed when they are combined with other NNs such as CNNs and NLP models. This short term memory feature gets transfered to whatever task (visual or text-based) that it is being applied towards.\n",
    "### Examples of the the uses of RNNs based on their structure\n",
    "![](images/rnn8.jpg)\n",
    "1. Top right - contextual image labelling.\n",
    "2. Top left - chatbots that can keep a conversation going.\n",
    "3. Bottom right - language translations.\n",
    "4. Bottom left - real-time video contextual labelling -> Self driving cars.\n",
    "## The Vanishing Gradient Problem of RNNs.\n",
    "![](images/rnn10.jpg)\n",
    "After feed-forward action, the cost function generates the error and now we want to back-propagate this weight adjustment through the the RNN inorder to improve the RNNs accuracy.  \n",
    "![](images/rnn11.jpg)\n",
    "Essentially, the weight adjustment process , involves multiplying the previous weights by `Wrec`.  \n",
    "**The problem comes if `Wrec` is a small number (<<<1). This will result in weights that become very small numbers after the multplication (weight adjustment process) which negatively affects the back-propagation process usign gradient descent because the gradients also continually decrease and....vanish. The lower the gradient is ,the more slower the weights are updated  and ultimately the each prior neuron is being trained less and less which leads to an imbalance in weight training across the entire RNN.**   \n",
    "\n",
    "\n",
    "**If `Wrec` is too large (>>>1) then we have `exploding` gradients which is another problem all together.**\n",
    "![](images/rnn12.jpg)\n",
    "\n",
    "### Dealing with `Vanishing` & `Exploding` gradients\n",
    "![](images/rnn13.jpg)\n",
    "# Long Short-Term Memory Networks (LSTMs)\n",
    "### Academic LSTM Illustration\n",
    "![](images/lstm2.jpg)\n",
    "## How did the LSTM improve the RNN ?\n",
    "### Standard RNN\n",
    "![](images/rnninside.jpg)\n",
    "### LSTM\n",
    "![](images/lstm1.jpg)  \n",
    "\n",
    "### LSTMs have a `memory cell` `C(t-1) -> C(t)` that flows through 'time' freely allowing for a more robust backpropagation.\n",
    "![](images/lstm4.jpg)\n",
    "## The pracitcal workings of LSTMs\n",
    "![](images/lstm5.jpg)\n",
    "### Examples\n",
    "![](images/lstm6.jpg)\n",
    "![](images/lstm7.jpg)\n",
    "## LSTM architectural variations\n",
    "### Standard LSTM\n",
    "![](images/lstm8.jpg)\n",
    "### LSTM with peep-holes\n",
    "![](images/lstm9.jpg)\n",
    "### LSTM with combined `memory` and `forget` valves\n",
    "![](images/lstm10.jpg)\n",
    "### Gated Recurrent Network - eliminates the memory cell.\n",
    "![](images/lstm11.jpg)"
   ]
  },
  {
   "cell_type": "markdown",
   "metadata": {},
   "source": [
    "# Objective\n",
    "### Predicting the stock price trends of Google/Alphabet  in 2017 using historical stock price data.\n",
    "### I will focus on only the `opening price` trends.\n",
    "### Regression problem.\n",
    "## Data\n",
    "Training data - Google stock price from 2012 - 2016.  \n",
    "Test data - Google stock price in January 2017.  "
   ]
  },
  {
   "cell_type": "markdown",
   "metadata": {
    "id": "nxJfRe4bfYVA"
   },
   "source": [
    "## Part 1 - Data Preprocessing"
   ]
  },
  {
   "cell_type": "markdown",
   "metadata": {
    "id": "ir9zwETrfbrp"
   },
   "source": [
    "### Importing the libraries"
   ]
  },
  {
   "cell_type": "code",
   "execution_count": 22,
   "metadata": {
    "id": "ZT1f24vHffuf"
   },
   "outputs": [],
   "source": [
    "import numpy as np\n",
    "import matplotlib.pyplot as plt\n",
    "import pandas as pd"
   ]
  },
  {
   "cell_type": "markdown",
   "metadata": {
    "id": "nQ47JAxrgmaL"
   },
   "source": [
    "### Importing the training set"
   ]
  },
  {
   "cell_type": "code",
   "execution_count": 23,
   "metadata": {},
   "outputs": [
    {
     "data": {
      "text/html": [
       "<div>\n",
       "<style scoped>\n",
       "    .dataframe tbody tr th:only-of-type {\n",
       "        vertical-align: middle;\n",
       "    }\n",
       "\n",
       "    .dataframe tbody tr th {\n",
       "        vertical-align: top;\n",
       "    }\n",
       "\n",
       "    .dataframe thead th {\n",
       "        text-align: right;\n",
       "    }\n",
       "</style>\n",
       "<table border=\"1\" class=\"dataframe\">\n",
       "  <thead>\n",
       "    <tr style=\"text-align: right;\">\n",
       "      <th></th>\n",
       "      <th>Date</th>\n",
       "      <th>Open</th>\n",
       "      <th>High</th>\n",
       "      <th>Low</th>\n",
       "      <th>Close</th>\n",
       "      <th>Volume</th>\n",
       "    </tr>\n",
       "  </thead>\n",
       "  <tbody>\n",
       "    <tr>\n",
       "      <th>0</th>\n",
       "      <td>1/3/2012</td>\n",
       "      <td>325.25</td>\n",
       "      <td>332.83</td>\n",
       "      <td>324.97</td>\n",
       "      <td>663.59</td>\n",
       "      <td>7,380,500</td>\n",
       "    </tr>\n",
       "    <tr>\n",
       "      <th>1</th>\n",
       "      <td>1/4/2012</td>\n",
       "      <td>331.27</td>\n",
       "      <td>333.87</td>\n",
       "      <td>329.08</td>\n",
       "      <td>666.45</td>\n",
       "      <td>5,749,400</td>\n",
       "    </tr>\n",
       "    <tr>\n",
       "      <th>2</th>\n",
       "      <td>1/5/2012</td>\n",
       "      <td>329.83</td>\n",
       "      <td>330.75</td>\n",
       "      <td>326.89</td>\n",
       "      <td>657.21</td>\n",
       "      <td>6,590,300</td>\n",
       "    </tr>\n",
       "    <tr>\n",
       "      <th>3</th>\n",
       "      <td>1/6/2012</td>\n",
       "      <td>328.34</td>\n",
       "      <td>328.77</td>\n",
       "      <td>323.68</td>\n",
       "      <td>648.24</td>\n",
       "      <td>5,405,900</td>\n",
       "    </tr>\n",
       "    <tr>\n",
       "      <th>4</th>\n",
       "      <td>1/9/2012</td>\n",
       "      <td>322.04</td>\n",
       "      <td>322.29</td>\n",
       "      <td>309.46</td>\n",
       "      <td>620.76</td>\n",
       "      <td>11,688,800</td>\n",
       "    </tr>\n",
       "  </tbody>\n",
       "</table>\n",
       "</div>"
      ],
      "text/plain": [
       "       Date    Open    High     Low   Close      Volume\n",
       "0  1/3/2012  325.25  332.83  324.97  663.59   7,380,500\n",
       "1  1/4/2012  331.27  333.87  329.08  666.45   5,749,400\n",
       "2  1/5/2012  329.83  330.75  326.89  657.21   6,590,300\n",
       "3  1/6/2012  328.34  328.77  323.68  648.24   5,405,900\n",
       "4  1/9/2012  322.04  322.29  309.46  620.76  11,688,800"
      ]
     },
     "execution_count": 23,
     "metadata": {},
     "output_type": "execute_result"
    }
   ],
   "source": [
    "train_data = pd.read_csv('data/Google_Stock_Price_Train.csv')\n",
    "train_data.head()"
   ]
  },
  {
   "cell_type": "code",
   "execution_count": 24,
   "metadata": {},
   "outputs": [
    {
     "data": {
      "text/plain": [
       "array([[325.25],\n",
       "       [331.27],\n",
       "       [329.83],\n",
       "       [328.34],\n",
       "       [322.04]])"
      ]
     },
     "execution_count": 24,
     "metadata": {},
     "output_type": "execute_result"
    }
   ],
   "source": [
    "training_set = train_data.iloc[:, 1:2].values\n",
    "training_set[:5]"
   ]
  },
  {
   "cell_type": "markdown",
   "metadata": {
    "id": "HT8_2UJegtG5"
   },
   "source": [
    "### Feature Scaling\n",
    "Here I **normalized** the data because it is advisable to do so when working with LSTMs since they utilize the 'sigmoid' activation function on the output layer."
   ]
  },
  {
   "cell_type": "code",
   "execution_count": 25,
   "metadata": {},
   "outputs": [],
   "source": [
    "from sklearn.preprocessing import MinMaxScaler\n",
    "sc = MinMaxScaler(feature_range = (0, 1))\n",
    "training_set_scaled = sc.fit_transform(training_set)"
   ]
  },
  {
   "cell_type": "code",
   "execution_count": 26,
   "metadata": {},
   "outputs": [
    {
     "data": {
      "text/plain": [
       "array([[0.08581368],\n",
       "       [0.09701243],\n",
       "       [0.09433366],\n",
       "       [0.09156187],\n",
       "       [0.07984225]])"
      ]
     },
     "execution_count": 26,
     "metadata": {},
     "output_type": "execute_result"
    }
   ],
   "source": [
    "training_set_scaled[:5]"
   ]
  },
  {
   "cell_type": "code",
   "execution_count": 27,
   "metadata": {},
   "outputs": [
    {
     "data": {
      "text/plain": [
       "1258"
      ]
     },
     "execution_count": 27,
     "metadata": {},
     "output_type": "execute_result"
    }
   ],
   "source": [
    "len(training_set)"
   ]
  },
  {
   "cell_type": "markdown",
   "metadata": {
    "id": "JyYgYocqhNUg"
   },
   "source": [
    "### Creating a data structure with 60 timesteps and 1 output\n",
    "Correct timestep number prevents overfitting.  \n",
    "**In this case, a 60 timestep means that a time (t) the LSTM will look at the opening stock prices 60 days before time (t), learn from the trends in the stock price data and use that to predict the stock price at time (t+1).**"
   ]
  },
  {
   "cell_type": "code",
   "execution_count": 28,
   "metadata": {},
   "outputs": [],
   "source": [
    "X_train = []\n",
    "y_train = []\n",
    "\n",
    "for i in range(60, len(training_set)):\n",
    "    X_train.append(training_set_scaled[i-60:i,0])\n",
    "    y_train.append(training_set_scaled[i,0])"
   ]
  },
  {
   "cell_type": "code",
   "execution_count": 29,
   "metadata": {},
   "outputs": [],
   "source": [
    "X_train, y_train = np.array(X_train) , np.array(y_train)"
   ]
  },
  {
   "cell_type": "markdown",
   "metadata": {},
   "source": [
    "Eack X_train list entry contains 60 opening stock prices (t-60:t-1) and the corresponding y_train entry list will contain the opening stock price at time (t)"
   ]
  },
  {
   "cell_type": "code",
   "execution_count": 30,
   "metadata": {},
   "outputs": [
    {
     "data": {
      "text/plain": [
       "array([[0.08581368, 0.09701243, 0.09433366, ..., 0.07846566, 0.08034452,\n",
       "        0.08497656],\n",
       "       [0.09701243, 0.09433366, 0.09156187, ..., 0.08034452, 0.08497656,\n",
       "        0.08627874],\n",
       "       [0.09433366, 0.09156187, 0.07984225, ..., 0.08497656, 0.08627874,\n",
       "        0.08471612],\n",
       "       ...,\n",
       "       [0.92106928, 0.92438053, 0.93048218, ..., 0.95475854, 0.95204256,\n",
       "        0.95163331],\n",
       "       [0.92438053, 0.93048218, 0.9299055 , ..., 0.95204256, 0.95163331,\n",
       "        0.95725128],\n",
       "       [0.93048218, 0.9299055 , 0.93113327, ..., 0.95163331, 0.95725128,\n",
       "        0.93796041]])"
      ]
     },
     "execution_count": 30,
     "metadata": {},
     "output_type": "execute_result"
    }
   ],
   "source": [
    "X_train"
   ]
  },
  {
   "cell_type": "code",
   "execution_count": 31,
   "metadata": {},
   "outputs": [
    {
     "data": {
      "text/plain": [
       "array([0.08627874, 0.08471612, 0.07454052, ..., 0.95725128, 0.93796041,\n",
       "       0.93688146])"
      ]
     },
     "execution_count": 31,
     "metadata": {},
     "output_type": "execute_result"
    }
   ],
   "source": [
    "y_train"
   ]
  },
  {
   "cell_type": "code",
   "execution_count": 32,
   "metadata": {},
   "outputs": [
    {
     "data": {
      "text/plain": [
       "(1198, 1198)"
      ]
     },
     "execution_count": 32,
     "metadata": {},
     "output_type": "execute_result"
    }
   ],
   "source": [
    "len(X_train), len(y_train)"
   ]
  },
  {
   "cell_type": "code",
   "execution_count": 33,
   "metadata": {},
   "outputs": [
    {
     "data": {
      "text/plain": [
       "(1198, 60)"
      ]
     },
     "execution_count": 33,
     "metadata": {},
     "output_type": "execute_result"
    }
   ],
   "source": [
    "X_train.shape"
   ]
  },
  {
   "cell_type": "markdown",
   "metadata": {},
   "source": [
    "### Reshaping\n",
    "Adding the `unit` - the number of predictors we can use to predict the opening stock price.  \n",
    "This will add an additional dimension to the training data to make it compatible with the LSTM input layer."
   ]
  },
  {
   "cell_type": "code",
   "execution_count": 34,
   "metadata": {},
   "outputs": [],
   "source": [
    "X_train = np.reshape(X_train, (X_train.shape[0], X_train.shape[1], 1))\n",
    "# This np.array shape is now (#stock prices, #timesteps, 1)"
   ]
  },
  {
   "cell_type": "code",
   "execution_count": 38,
   "metadata": {},
   "outputs": [
    {
     "data": {
      "text/plain": [
       "(1198, 60, 1)"
      ]
     },
     "execution_count": 38,
     "metadata": {},
     "output_type": "execute_result"
    }
   ],
   "source": [
    "X_train.shape"
   ]
  },
  {
   "cell_type": "markdown",
   "metadata": {
    "id": "ZRRSOJeVjEWV"
   },
   "source": [
    "## Part 2 - Building and Training the Stacked RNN (LSTM) Model"
   ]
  },
  {
   "cell_type": "markdown",
   "metadata": {
    "id": "k4XV88JMjHXG"
   },
   "source": [
    "### Importing the Keras libraries and packages"
   ]
  },
  {
   "cell_type": "code",
   "execution_count": 39,
   "metadata": {},
   "outputs": [],
   "source": [
    "from keras.models import Sequential\n",
    "from keras.layers import Dense\n",
    "from keras.layers import LSTM\n",
    "from keras.layers import Dropout"
   ]
  },
  {
   "cell_type": "markdown",
   "metadata": {
    "id": "FEIE-1s9jNzC"
   },
   "source": [
    "### Initialising the RNN"
   ]
  },
  {
   "cell_type": "code",
   "execution_count": 40,
   "metadata": {},
   "outputs": [],
   "source": [
    "rnn = Sequential()"
   ]
  },
  {
   "cell_type": "markdown",
   "metadata": {
    "id": "62eg1OPGjT8z"
   },
   "source": [
    "### Adding the first LSTM layer and some Dropout regularisation\n",
    "We add dropout regularisation to prevent overfitting."
   ]
  },
  {
   "cell_type": "code",
   "execution_count": 41,
   "metadata": {},
   "outputs": [],
   "source": [
    "# LSTM layer\n",
    "rnn.add(LSTM(units = 50, # We want many neurons (higher dimensionality of NN) to capture the complexity of stock price data\n",
    "             return_sequences = True, # To enable us to add/stack another LSTM layer\n",
    "             input_shape = (X_train.shape[1], 1))) # Will be (#timesteps, #indicators)\n",
    "\n",
    "# Dropout Layer\n",
    "rnn.add(Dropout(0.2)) # 20% dropout - 20% of neurons will be ignored during training."
   ]
  },
  {
   "cell_type": "markdown",
   "metadata": {
    "id": "3XBIYLyOjlMx"
   },
   "source": [
    "### Adding a second LSTM layer and some Dropout regularisation"
   ]
  },
  {
   "cell_type": "code",
   "execution_count": 42,
   "metadata": {},
   "outputs": [],
   "source": [
    "rnn.add(LSTM(units = 50, return_sequences = True))\n",
    "rnn.add(Dropout(0.2))"
   ]
  },
  {
   "cell_type": "markdown",
   "metadata": {
    "id": "Ey3fHVnGj1cu"
   },
   "source": [
    "### Adding a third LSTM layer and some Dropout regularisation"
   ]
  },
  {
   "cell_type": "code",
   "execution_count": 43,
   "metadata": {},
   "outputs": [],
   "source": [
    "rnn.add(LSTM(units = 50, return_sequences = True))\n",
    "rnn.add(Dropout(0.2))"
   ]
  },
  {
   "cell_type": "markdown",
   "metadata": {
    "id": "SYTrtfTmj933"
   },
   "source": [
    "### Adding a fourth and final LSTM layer and some Dropout regularisation"
   ]
  },
  {
   "cell_type": "code",
   "execution_count": 44,
   "metadata": {},
   "outputs": [],
   "source": [
    "rnn.add(LSTM(units = 50, return_sequences = False))\n",
    "rnn.add(Dropout(0.2))"
   ]
  },
  {
   "cell_type": "markdown",
   "metadata": {
    "id": "9ABI6rOIkHhk"
   },
   "source": [
    "### Adding the fully connected output layer"
   ]
  },
  {
   "cell_type": "code",
   "execution_count": 45,
   "metadata": {},
   "outputs": [],
   "source": [
    "rnn.add(Dense(units = 1))"
   ]
  },
  {
   "cell_type": "markdown",
   "metadata": {
    "id": "zLx4K7uUkPSh"
   },
   "source": [
    "### Compiling the RNN"
   ]
  },
  {
   "cell_type": "code",
   "execution_count": 46,
   "metadata": {},
   "outputs": [],
   "source": [
    "rnn.compile(optimizer = 'adam',\n",
    "           loss = 'mean_squared_error') # Since this is a regression problem ( continuous value)"
   ]
  },
  {
   "cell_type": "markdown",
   "metadata": {
    "id": "-mPhwKGkkebi"
   },
   "source": [
    "### Fitting the RNN to the Training set"
   ]
  },
  {
   "cell_type": "code",
   "execution_count": 47,
   "metadata": {},
   "outputs": [
    {
     "name": "stdout",
     "output_type": "stream",
     "text": [
      "Epoch 1/100\n",
      "38/38 [==============================] - 12s 106ms/step - loss: 0.1021\n",
      "Epoch 2/100\n",
      "38/38 [==============================] - 4s 114ms/step - loss: 0.0067\n",
      "Epoch 3/100\n",
      "38/38 [==============================] - 4s 103ms/step - loss: 0.0056\n",
      "Epoch 4/100\n",
      "38/38 [==============================] - 4s 100ms/step - loss: 0.0053\n",
      "Epoch 5/100\n",
      "38/38 [==============================] - 4s 105ms/step - loss: 0.0047\n",
      "Epoch 6/100\n",
      "38/38 [==============================] - 4s 101ms/step - loss: 0.0048\n",
      "Epoch 7/100\n",
      "38/38 [==============================] - 4s 103ms/step - loss: 0.0051\n",
      "Epoch 8/100\n",
      "38/38 [==============================] - 4s 104ms/step - loss: 0.0042\n",
      "Epoch 9/100\n",
      "38/38 [==============================] - 4s 102ms/step - loss: 0.0045\n",
      "Epoch 10/100\n",
      "38/38 [==============================] - 4s 115ms/step - loss: 0.0043\n",
      "Epoch 11/100\n",
      "38/38 [==============================] - 4s 114ms/step - loss: 0.0038\n",
      "Epoch 12/100\n",
      "38/38 [==============================] - 4s 115ms/step - loss: 0.0037\n",
      "Epoch 13/100\n",
      "38/38 [==============================] - 4s 114ms/step - loss: 0.0034\n",
      "Epoch 14/100\n",
      "38/38 [==============================] - 4s 113ms/step - loss: 0.0043\n",
      "Epoch 15/100\n",
      "38/38 [==============================] - 4s 110ms/step - loss: 0.0051\n",
      "Epoch 16/100\n",
      "38/38 [==============================] - 4s 106ms/step - loss: 0.0040\n",
      "Epoch 17/100\n",
      "38/38 [==============================] - 4s 117ms/step - loss: 0.0040\n",
      "Epoch 18/100\n",
      "38/38 [==============================] - 4s 109ms/step - loss: 0.0037\n",
      "Epoch 19/100\n",
      "38/38 [==============================] - 4s 110ms/step - loss: 0.0033\n",
      "Epoch 20/100\n",
      "38/38 [==============================] - 4s 107ms/step - loss: 0.0038\n",
      "Epoch 21/100\n",
      "38/38 [==============================] - 4s 115ms/step - loss: 0.0034\n",
      "Epoch 22/100\n",
      "38/38 [==============================] - 4s 96ms/step - loss: 0.0042\n",
      "Epoch 23/100\n",
      "38/38 [==============================] - 4s 99ms/step - loss: 0.0034\n",
      "Epoch 24/100\n",
      "38/38 [==============================] - 4s 103ms/step - loss: 0.0029\n",
      "Epoch 25/100\n",
      "38/38 [==============================] - 5s 118ms/step - loss: 0.0035\n",
      "Epoch 26/100\n",
      "38/38 [==============================] - 4s 111ms/step - loss: 0.0039\n",
      "Epoch 27/100\n",
      "38/38 [==============================] - 4s 117ms/step - loss: 0.0031\n",
      "Epoch 28/100\n",
      "38/38 [==============================] - 5s 122ms/step - loss: 0.0029\n",
      "Epoch 29/100\n",
      "38/38 [==============================] - 5s 127ms/step - loss: 0.0029\n",
      "Epoch 30/100\n",
      "38/38 [==============================] - 5s 126ms/step - loss: 0.0028\n",
      "Epoch 31/100\n",
      "38/38 [==============================] - 6s 154ms/step - loss: 0.0035\n",
      "Epoch 32/100\n",
      "38/38 [==============================] - 6s 148ms/step - loss: 0.0032\n",
      "Epoch 33/100\n",
      "38/38 [==============================] - 6s 170ms/step - loss: 0.0035\n",
      "Epoch 34/100\n",
      "38/38 [==============================] - 6s 160ms/step - loss: 0.0031\n",
      "Epoch 35/100\n",
      "38/38 [==============================] - 7s 194ms/step - loss: 0.0025\n",
      "Epoch 36/100\n",
      "38/38 [==============================] - 6s 168ms/step - loss: 0.0028 1s - lo\n",
      "Epoch 37/100\n",
      "38/38 [==============================] - 6s 158ms/step - loss: 0.0028\n",
      "Epoch 38/100\n",
      "38/38 [==============================] - 9s 227ms/step - loss: 0.0025\n",
      "Epoch 39/100\n",
      "38/38 [==============================] - 7s 173ms/step - loss: 0.0027\n",
      "Epoch 40/100\n",
      "38/38 [==============================] - 8s 207ms/step - loss: 0.0031\n",
      "Epoch 41/100\n",
      "38/38 [==============================] - 7s 194ms/step - loss: 0.0025\n",
      "Epoch 42/100\n",
      "38/38 [==============================] - 7s 196ms/step - loss: 0.0028\n",
      "Epoch 43/100\n",
      "38/38 [==============================] - 7s 185ms/step - loss: 0.0031\n",
      "Epoch 44/100\n",
      "38/38 [==============================] - 8s 199ms/step - loss: 0.0024\n",
      "Epoch 45/100\n",
      "38/38 [==============================] - 7s 175ms/step - loss: 0.0026\n",
      "Epoch 46/100\n",
      "38/38 [==============================] - 6s 146ms/step - loss: 0.0027\n",
      "Epoch 47/100\n",
      "38/38 [==============================] - 5s 141ms/step - loss: 0.0024\n",
      "Epoch 48/100\n",
      "38/38 [==============================] - 5s 136ms/step - loss: 0.0027\n",
      "Epoch 49/100\n",
      "38/38 [==============================] - 6s 146ms/step - loss: 0.0021\n",
      "Epoch 50/100\n",
      "38/38 [==============================] - 5s 137ms/step - loss: 0.0020\n",
      "Epoch 51/100\n",
      "38/38 [==============================] - 5s 136ms/step - loss: 0.0024\n",
      "Epoch 52/100\n",
      "38/38 [==============================] - 5s 134ms/step - loss: 0.0021\n",
      "Epoch 53/100\n",
      "38/38 [==============================] - 5s 133ms/step - loss: 0.0023\n",
      "Epoch 54/100\n",
      "38/38 [==============================] - 5s 137ms/step - loss: 0.0026\n",
      "Epoch 55/100\n",
      "38/38 [==============================] - 5s 133ms/step - loss: 0.0019\n",
      "Epoch 56/100\n",
      "38/38 [==============================] - 5s 126ms/step - loss: 0.0021\n",
      "Epoch 57/100\n",
      "38/38 [==============================] - 5s 133ms/step - loss: 0.0022\n",
      "Epoch 58/100\n",
      "38/38 [==============================] - 5s 143ms/step - loss: 0.0024\n",
      "Epoch 59/100\n",
      "38/38 [==============================] - 6s 147ms/step - loss: 0.0020\n",
      "Epoch 60/100\n",
      "38/38 [==============================] - 5s 142ms/step - loss: 0.0021\n",
      "Epoch 61/100\n",
      "38/38 [==============================] - 5s 132ms/step - loss: 0.0022\n",
      "Epoch 62/100\n",
      "38/38 [==============================] - 5s 127ms/step - loss: 0.0024\n",
      "Epoch 63/100\n",
      "38/38 [==============================] - 5s 123ms/step - loss: 0.0021\n",
      "Epoch 64/100\n",
      "38/38 [==============================] - 5s 124ms/step - loss: 0.0022\n",
      "Epoch 65/100\n",
      "38/38 [==============================] - 5s 127ms/step - loss: 0.0019\n",
      "Epoch 66/100\n",
      "38/38 [==============================] - 5s 125ms/step - loss: 0.0020\n",
      "Epoch 67/100\n",
      "38/38 [==============================] - 5s 128ms/step - loss: 0.0019\n",
      "Epoch 68/100\n",
      "38/38 [==============================] - 5s 123ms/step - loss: 0.0022\n",
      "Epoch 69/100\n",
      "38/38 [==============================] - 5s 123ms/step - loss: 0.0019\n",
      "Epoch 70/100\n",
      "38/38 [==============================] - 5s 125ms/step - loss: 0.0018\n",
      "Epoch 71/100\n",
      "38/38 [==============================] - 5s 119ms/step - loss: 0.0019\n",
      "Epoch 72/100\n",
      "38/38 [==============================] - 5s 123ms/step - loss: 0.0018\n",
      "Epoch 73/100\n",
      "38/38 [==============================] - 5s 118ms/step - loss: 0.0019\n",
      "Epoch 74/100\n",
      "38/38 [==============================] - 5s 133ms/step - loss: 0.0017\n",
      "Epoch 75/100\n",
      "38/38 [==============================] - 5s 121ms/step - loss: 0.0018\n",
      "Epoch 76/100\n",
      "38/38 [==============================] - 4s 117ms/step - loss: 0.0019\n",
      "Epoch 77/100\n",
      "38/38 [==============================] - 4s 117ms/step - loss: 0.0019\n",
      "Epoch 78/100\n",
      "38/38 [==============================] - 5s 122ms/step - loss: 0.0018\n",
      "Epoch 79/100\n",
      "38/38 [==============================] - 5s 124ms/step - loss: 0.0016\n",
      "Epoch 80/100\n",
      "38/38 [==============================] - 5s 135ms/step - loss: 0.0018\n",
      "Epoch 81/100\n",
      "38/38 [==============================] - 5s 138ms/step - loss: 0.0017\n",
      "Epoch 82/100\n",
      "38/38 [==============================] - 5s 134ms/step - loss: 0.0019\n",
      "Epoch 83/100\n",
      "38/38 [==============================] - 5s 120ms/step - loss: 0.0019\n",
      "Epoch 84/100\n",
      "38/38 [==============================] - 4s 116ms/step - loss: 0.0015\n",
      "Epoch 85/100\n",
      "38/38 [==============================] - 5s 120ms/step - loss: 0.0017\n",
      "Epoch 86/100\n",
      "38/38 [==============================] - 5s 121ms/step - loss: 0.0017\n",
      "Epoch 87/100\n",
      "38/38 [==============================] - 4s 114ms/step - loss: 0.0017\n",
      "Epoch 88/100\n",
      "38/38 [==============================] - 5s 121ms/step - loss: 0.0015\n",
      "Epoch 89/100\n",
      "38/38 [==============================] - 5s 119ms/step - loss: 0.0016\n",
      "Epoch 90/100\n",
      "38/38 [==============================] - 5s 119ms/step - loss: 0.0014\n",
      "Epoch 91/100\n",
      "38/38 [==============================] - 5s 122ms/step - loss: 0.0015\n",
      "Epoch 92/100\n",
      "38/38 [==============================] - 5s 125ms/step - loss: 0.0017\n",
      "Epoch 93/100\n",
      "38/38 [==============================] - 4s 115ms/step - loss: 0.0012\n",
      "Epoch 94/100\n",
      "38/38 [==============================] - 4s 117ms/step - loss: 0.0014\n",
      "Epoch 95/100\n",
      "38/38 [==============================] - 5s 124ms/step - loss: 0.0016\n",
      "Epoch 96/100\n",
      "38/38 [==============================] - 5s 142ms/step - loss: 0.0015\n",
      "Epoch 97/100\n",
      "38/38 [==============================] - 5s 130ms/step - loss: 0.0015\n",
      "Epoch 98/100\n",
      "38/38 [==============================] - 5s 119ms/step - loss: 0.0015\n",
      "Epoch 99/100\n"
     ]
    },
    {
     "name": "stdout",
     "output_type": "stream",
     "text": [
      "38/38 [==============================] - 5s 119ms/step - loss: 0.0015\n",
      "Epoch 100/100\n",
      "38/38 [==============================] - 4s 117ms/step - loss: 0.0013\n"
     ]
    },
    {
     "data": {
      "text/plain": [
       "<tensorflow.python.keras.callbacks.History at 0x7fb111d20d60>"
      ]
     },
     "execution_count": 47,
     "metadata": {},
     "output_type": "execute_result"
    }
   ],
   "source": [
    "rnn.fit(X_train, y_train, epochs = 100, batch_size = 32)"
   ]
  },
  {
   "cell_type": "markdown",
   "metadata": {
    "id": "4hRau_lIkrE8"
   },
   "source": [
    "## Part 3 - Making the predictions and visualising the results"
   ]
  },
  {
   "cell_type": "markdown",
   "metadata": {
    "id": "SgJO6qEDksxD"
   },
   "source": [
    "### Getting the real stock prices of 2017"
   ]
  },
  {
   "cell_type": "code",
   "execution_count": 48,
   "metadata": {},
   "outputs": [],
   "source": [
    "test_data = pd.read_csv('data/Google_Stock_Price_Test.csv')\n",
    "true_stock_prices = test_data.iloc[:, 1:2].values"
   ]
  },
  {
   "cell_type": "markdown",
   "metadata": {
    "id": "GrvrLblxkz42"
   },
   "source": [
    "### Getting the RNN-predicted stock prices of 2017"
   ]
  },
  {
   "cell_type": "code",
   "execution_count": 49,
   "metadata": {},
   "outputs": [
    {
     "data": {
      "text/plain": [
       "0    325.25\n",
       "1    331.27\n",
       "2    329.83\n",
       "3    328.34\n",
       "4    322.04\n",
       "Name: Open, dtype: float64"
      ]
     },
     "execution_count": 49,
     "metadata": {},
     "output_type": "execute_result"
    }
   ],
   "source": [
    "# Concatenating the train_data and test_data\n",
    "all_data = pd.concat((train_data.Open, test_data.Open), axis=0)\n",
    "all_data.head()"
   ]
  },
  {
   "cell_type": "code",
   "execution_count": 50,
   "metadata": {},
   "outputs": [],
   "source": [
    "# Get the inputs - From the 2017 data -  At each time (t) we need the previous 60 stock prices \n",
    "inputs = all_data[(len(all_data) - len(test_data))-60:].values\n",
    "inputs = inputs.reshape(-1,1)\n",
    "\n",
    "# Scaling the inputs\n",
    "inputs = sc.transform(inputs)"
   ]
  },
  {
   "cell_type": "code",
   "execution_count": 51,
   "metadata": {},
   "outputs": [
    {
     "data": {
      "text/plain": [
       "20"
      ]
     },
     "execution_count": 51,
     "metadata": {},
     "output_type": "execute_result"
    }
   ],
   "source": [
    "len(true_stock_prices)"
   ]
  },
  {
   "cell_type": "code",
   "execution_count": 52,
   "metadata": {},
   "outputs": [],
   "source": [
    "# Reshaping the inputs just like X_train\n",
    "X_test = []\n",
    "\n",
    "for i in range(60, 60+len(true_stock_prices)):\n",
    "    X_test.append(inputs[i-60:i,0])\n",
    "\n",
    "X_test = np.array(X_test)\n",
    "\n",
    "X_test = np.reshape(X_test, (X_test.shape[0], X_test.shape[1], 1))\n",
    "# This np.array shape is now (#stock prices, #timesteps, 1)"
   ]
  },
  {
   "cell_type": "markdown",
   "metadata": {},
   "source": [
    "### Making predictions using X_test"
   ]
  },
  {
   "cell_type": "code",
   "execution_count": 53,
   "metadata": {},
   "outputs": [],
   "source": [
    "predicted_stock_prices = rnn.predict(X_test)\n",
    "\n",
    "# Inverse transforming the predictions\n",
    "predicted_stock_prices = sc.inverse_transform(predicted_stock_prices)"
   ]
  },
  {
   "cell_type": "markdown",
   "metadata": {
    "id": "iFTNs3YHk6FQ"
   },
   "source": [
    "### Visualising the results"
   ]
  },
  {
   "cell_type": "code",
   "execution_count": 59,
   "metadata": {},
   "outputs": [
    {
     "data": {
      "image/png": "[encoded data removed]",
      "text/plain": [
       "<Figure size 432x288 with 1 Axes>"
      ]
     },
     "metadata": {
      "needs_background": "light"
     },
     "output_type": "display_data"
    }
   ],
   "source": [
    "plt.plot(true_stock_prices, color = 'red', label = 'Truth')\n",
    "plt.plot(predicted_stock_prices, color = 'blue', label = 'Prediction')\n",
    "plt.title('Google Stock Price Prediction for January 2017')\n",
    "plt.xlabel('Time')\n",
    "plt.legend()\n",
    "plt.ylabel('Opening Stock Price')\n",
    "plt.show();"
   ]
  },
  {
   "cell_type": "markdown",
   "metadata": {},
   "source": [
    "## Part 4 - Evaluating the RNN using RMSE (Root Mean Squared Error)"
   ]
  },
  {
   "cell_type": "code",
   "execution_count": 60,
   "metadata": {},
   "outputs": [
    {
     "name": "stdout",
     "output_type": "stream",
     "text": [
      "The RNNs RMSE is:  11.939283094427015\n"
     ]
    }
   ],
   "source": [
    "from sklearn.metrics import mean_squared_error\n",
    "rmse = np.sqrt(mean_squared_error(true_stock_prices, predicted_stock_prices))\n",
    "print(\"The RNNs RMSE is: \", rmse)"
   ]
  },
  {
   "cell_type": "markdown",
   "metadata": {},
   "source": [
    "### An RMSE of around 12 for opening stock prices ranging from 778 - 837 indicates realiable and accurate stock price predictions."
   ]
  },
  {
   "cell_type": "markdown",
   "metadata": {},
   "source": [
    "## How can I improve this RNN (LSTM) Model in the future ? \n",
    "1. **Getting more training data**: I trained the RNN model on the past 5 years of the Google Stock Price but it would be even better to train it on the past 10 years.\n",
    "2. **Increasing the number of timesteps**: the model remembered the stock prices from the 60 previous financial days to predict the stock price of the next day. That’s because I chose a number of 60 timesteps (3 months). I could try to increase the number of timesteps, by choosing for example 120 timesteps (6 months).\n",
    "3. **Adding some other indicators**: if you have the financial instinct that the stock price of some other companies might be correlated to the one of Google, you could add this other stock price as a new indicator in the training data.\n",
    "4. **Adding more LSTM layer**s: I built a RNN with four LSTM layers but it would be wise to try with even more.\n",
    "5. **Adding more neurones in the LSTM layers**: I would try an architecture with even more neurones in each of the 4 (or more) LSTM layers."
   ]
  },
  {
   "cell_type": "code",
   "execution_count": null,
   "metadata": {},
   "outputs": [],
   "source": []
  }
 ],
 "metadata": {
  "colab": {
   "collapsed_sections": [],
   "name": "rnn.ipynb",
   "provenance": []
  },
  "kernelspec": {
   "display_name": "Python 3",
   "language": "python",
   "name": "python3"
  },
  "language_info": {
   "codemirror_mode": {
    "name": "ipython",
    "version": 3
   },
   "file_extension": ".py",
   "mimetype": "text/x-python",
   "name": "python",
   "nbconvert_exporter": "python",
   "pygments_lexer": "ipython3",
   "version": "3.8.8"
  }
 },
 "nbformat": 4,
 "nbformat_minor": 1
}
